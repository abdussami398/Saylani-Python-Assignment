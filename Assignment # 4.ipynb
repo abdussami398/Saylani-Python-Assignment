{
 "cells": [
  {
   "cell_type": "code",
   "execution_count": 1,
   "id": "3e464ca5",
   "metadata": {},
   "outputs": [
    {
     "name": "stdout",
     "output_type": "stream",
     "text": [
      "Enter First Number: 5\n",
      "Enter Second Number: 4\n",
      "Enter which operation would you like to perform?\n",
      "Enter any of these char for specific operation +,-,*,/: +\n",
      "5 + 4 : 9\n"
     ]
    }
   ],
   "source": [
    " #Make a calculator using Python with addition , subtraction , multiplication ,division\n",
    "\n",
    "num1 = int(input(\"Enter First Number: \"))\n",
    "num2 = int(input(\"Enter Second Number: \"))\n",
    "\n",
    "print(\"Enter which operation would you like to perform?\")\n",
    "ch = input(\"Enter any of these char for specific operation +,-,*,/: \")\n",
    "\n",
    "result = 0\n",
    "if ch == '+':\n",
    "    result = num1 + num2\n",
    "elif ch == '-':\n",
    "    result = num1 - num2\n",
    "elif ch == '*':\n",
    "    result = num1 * num2\n",
    "elif ch == '/':\n",
    "    result = num1 / num2\n",
    "else:\n",
    "    print(\"Input character is not recognized!\")\n",
    "\n",
    "print(num1, ch , num2, \":\", result)"
   ]
  },
  {
   "cell_type": "code",
   "execution_count": 3,
   "id": "17423927",
   "metadata": {},
   "outputs": [
    {
     "name": "stdout",
     "output_type": "stream",
     "text": [
      "4\n",
      "13\n"
     ]
    }
   ],
   "source": [
    "#Write a program to check if there is any numeric value in list using for loop.\n",
    "\n",
    "list = [\"abc\", \"saylani\", 4, \"ali\", 13 , \"karachi\"] \n",
    "for x in list: \n",
    "    if type(x) == int: \n",
    "        print(x)"
   ]
  },
  {
   "cell_type": "code",
   "execution_count": 8,
   "id": "33ec7083",
   "metadata": {},
   "outputs": [
    {
     "name": "stdout",
     "output_type": "stream",
     "text": [
      "Current Dict is:  {'City': 'karachi', 'nationality': 'Pakistani'}\n",
      "Updated Dict is:  {'City': 'karachi', 'nationality': 'American', 'Age': 25}\n"
     ]
    }
   ],
   "source": [
    "#Write a Python script to add a key to a dictionary.\n",
    "\n",
    "dict = {'City':'karachi', 'nationality':'Pakistani'}\n",
    "print(\"Current Dict is: \", dict)  \n",
    "\n",
    "dict['nationality'] = 'American'\n",
    "\n",
    "dict['Age'] = 25\n",
    "\n",
    "print(\"Updated Dict is: \", dict)"
   ]
  },
  {
   "cell_type": "code",
   "execution_count": 7,
   "id": "1a2b3850",
   "metadata": {},
   "outputs": [
    {
     "name": "stdout",
     "output_type": "stream",
     "text": [
      "220\n"
     ]
    }
   ],
   "source": [
    "#Write a Python program to sum all the numeric items in a dictionary.\n",
    "\n",
    "dict = {'Math': 88, 'physics': 72 , 'English': 60}\n",
    "sumall = sum(dict.values())\n",
    "print (sumall)\n"
   ]
  },
  {
   "cell_type": "code",
   "execution_count": 12,
   "id": "f237e0fd",
   "metadata": {},
   "outputs": [
    {
     "name": "stdout",
     "output_type": "stream",
     "text": [
      "Duplicate elements in given array: \n",
      "2\n",
      "3\n",
      "8\n",
      "5\n"
     ]
    }
   ],
   "source": [
    "#Write a program to identify duplicate values from list.\n",
    "\n",
    "arr = [1, 2, 3, 4, 2, 7, 8, 8, 3,5,5];     \n",
    "     \n",
    "print(\"Duplicate elements in given array: \");    \n",
    "#Searches for duplicate element    \n",
    "for i in range(0, len(arr)):    \n",
    "    for j in range(i+1, len(arr)):    \n",
    "        if(arr[i] == arr[j]):    \n",
    "            print(arr[j]);    "
   ]
  },
  {
   "cell_type": "code",
   "execution_count": 15,
   "id": "e1890288",
   "metadata": {},
   "outputs": [
    {
     "name": "stdout",
     "output_type": "stream",
     "text": [
      "The given dictionary :  {'Jan': 3, 'Feb': 5, 'March': 6, 'April': 9}\n",
      "Jan is Present.\n"
     ]
    }
   ],
   "source": [
    "#Write a Python script to check if a given key already exists in a dictionary\n",
    "\n",
    "dict = {'Jan':3,'Feb':5,'March':6,'April':9}\n",
    "print(\"The given dictionary : \",dict)\n",
    "check_key = \"Jan\"\n",
    "if check_key in dict.keys():\n",
    "   print(check_key,\"is Present.\")\n",
    "else:\n",
    "   print(check_key, \" is not Present.\")"
   ]
  },
  {
   "cell_type": "code",
   "execution_count": null,
   "id": "c57aa018",
   "metadata": {},
   "outputs": [],
   "source": []
  }
 ],
 "metadata": {
  "kernelspec": {
   "display_name": "Python 3 (ipykernel)",
   "language": "python",
   "name": "python3"
  },
  "language_info": {
   "codemirror_mode": {
    "name": "ipython",
    "version": 3
   },
   "file_extension": ".py",
   "mimetype": "text/x-python",
   "name": "python",
   "nbconvert_exporter": "python",
   "pygments_lexer": "ipython3",
   "version": "3.9.6"
  }
 },
 "nbformat": 4,
 "nbformat_minor": 5
}
