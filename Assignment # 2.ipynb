{
 "cells": [
  {
   "cell_type": "code",
   "execution_count": 3,
   "id": "51a8fc19",
   "metadata": {},
   "outputs": [
    {
     "name": "stdout",
     "output_type": "stream",
     "text": [
      "The percentage is 78.0\n",
      "Grade A\n"
     ]
    }
   ],
   "source": [
    "English = 89\n",
    "Islamiat = 67\n",
    "Math = 78\n",
    "\n",
    "Total_marks = 300\n",
    "\n",
    "Obtained_marks = English + Islamiat + Math\n",
    "\n",
    "Percentage = Obtained_marks / Total_marks *  100\n",
    "\n",
    "print (\"The percentage is\", Percentage)\n",
    "\n",
    "\n",
    "if (Percentage >=80  and Percentage<=100):\n",
    "    print (\"Grade A+\");\n",
    "elif (Percentage >=70 and Percentage<=79):\n",
    "    print (\"Grade A\");\n",
    "elif (Percentage >=60 and Percentage<=69):\n",
    "    print (\"Grade B\");\n",
    "elif (Percentage >=50 and Percentage<=59):\n",
    "    print (\"Grade C\");\n",
    "elif (Percentage >=45 and Percentage<=49):\n",
    "    print (\"Grade D\");\n",
    "else:\n",
    "    print (\"You are Fail\")"
   ]
  }
 ],
 "metadata": {
  "kernelspec": {
   "display_name": "Python 3 (ipykernel)",
   "language": "python",
   "name": "python3"
  },
  "language_info": {
   "codemirror_mode": {
    "name": "ipython",
    "version": 3
   },
   "file_extension": ".py",
   "mimetype": "text/x-python",
   "name": "python",
   "nbconvert_exporter": "python",
   "pygments_lexer": "ipython3",
   "version": "3.9.6"
  }
 },
 "nbformat": 4,
 "nbformat_minor": 5
}
