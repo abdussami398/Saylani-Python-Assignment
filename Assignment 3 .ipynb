{
 "cells": [
  {
   "cell_type": "code",
   "execution_count": 4,
   "id": "3a0f2335",
   "metadata": {},
   "outputs": [
    {
     "name": "stdout",
     "output_type": "stream",
     "text": [
      "Twinkle,twinkle, little star,\n",
      "                How I wonder what you are!\n",
      "                       Up above the world so high,\n",
      "                       Like a diamond in the sky.\n",
      "        Twinkle,twinkle, little star,\n",
      "                How I wonder what you are\n"
     ]
    }
   ],
   "source": [
    "                        #Write a Python program to print the following string in a specific format\n",
    "    \n",
    "    \n",
    "a = \"\"\"Twinkle,twinkle, little star,\n",
    "                How I wonder what you are!\n",
    "                       Up above the world so high,\n",
    "                       Like a diamond in the sky.\n",
    "        Twinkle,twinkle, little star,\n",
    "                How I wonder what you are\"\"\"\n",
    "\n",
    "print (a)"
   ]
  },
  {
   "cell_type": "code",
   "execution_count": 9,
   "id": "5e38efd5",
   "metadata": {},
   "outputs": [
    {
     "name": "stdout",
     "output_type": "stream",
     "text": [
      "Python version is  3.9.6 (tags/v3.9.6:db3ff76, Jun 28 2021, 15:26:21) [MSC v.1929 64 bit (AMD64)]\n"
     ]
    }
   ],
   "source": [
    "                            #Write a Python program to get the Python version you are using\n",
    "    \n",
    "    \n",
    "import sys\n",
    "print(\"Python version is \",sys.version)\n"
   ]
  },
  {
   "cell_type": "code",
   "execution_count": 10,
   "id": "5d1e4c3c",
   "metadata": {},
   "outputs": [
    {
     "name": "stdout",
     "output_type": "stream",
     "text": [
      "Current date and time : \n",
      "2021-10-23 02:32:08\n"
     ]
    }
   ],
   "source": [
    "                            #Write a Python program to display the current date and time.\n",
    "    \n",
    "    \n",
    "import datetime\n",
    "now = datetime.datetime.now()\n",
    "print (\"Current date and time : \")\n",
    "print (now.strftime(\"%Y-%m-%d %H:%M:%S\"))"
   ]
  },
  {
   "cell_type": "code",
   "execution_count": 11,
   "id": "ddfec6e9",
   "metadata": {},
   "outputs": [
    {
     "name": "stdout",
     "output_type": "stream",
     "text": [
      "Input the radius of the circle : 2.2\n",
      "The area of the circle with radius 2.2 is: 15.205308443374602\n"
     ]
    }
   ],
   "source": [
    "#Write a Python program which accepts the radius of a circle from the user and compute the area.\n",
    "\n",
    "\n",
    "from math import pi\n",
    "r = float(input (\"Input the radius of the circle : \"))\n",
    "print (\"The area of the circle with radius \" + str(r) + \" is: \" + str(pi * r**2))"
   ]
  },
  {
   "cell_type": "code",
   "execution_count": 18,
   "id": "8c14b3d5",
   "metadata": {},
   "outputs": [
    {
     "name": "stdout",
     "output_type": "stream",
     "text": [
      "Type your First nameAbdus\n",
      "Type your Last nameSami\n",
      "Your reverse name is  Sami Abdus\n"
     ]
    }
   ],
   "source": [
    "'''Write a Python program which accepts the user's first and last name and print them in reverse order \n",
    "with a space between them.'''\n",
    "\n",
    "    \n",
    "First_name = (input(\"Type your First name\"))\n",
    "Last_name  = (input(\"Type your Last name\"))\n",
    "print (\"Your reverse name is \" , Last_name + \" \" + First_name)"
   ]
  },
  {
   "cell_type": "code",
   "execution_count": 21,
   "id": "4b0023ea",
   "metadata": {},
   "outputs": [
    {
     "name": "stdout",
     "output_type": "stream",
     "text": [
      "enter first value: Abdus\n",
      "enter second value: Sami\n",
      "Your answer is AbdusSami\n"
     ]
    }
   ],
   "source": [
    "#Write a python program which takes two inputs from user and print them addition       \n",
    "\n",
    "\n",
    "a = (input(\"enter first value: \"))\n",
    "b = (input(\"enter second value: \"))\n",
    "Add = a + b\n",
    "print(\"Your answer is\", Add)"
   ]
  },
  {
   "cell_type": "code",
   "execution_count": 24,
   "id": "fe0eac07",
   "metadata": {},
   "outputs": [
    {
     "name": "stdout",
     "output_type": "stream",
     "text": [
      "Enter your marks: 78\n",
      "Enter your marks: 87\n",
      "Enter your marks: 56\n",
      "Enter your marks: 95\n",
      "Enter your marks: 67\n",
      "Your total marks is 383\n",
      "The percentage is 76.6\n",
      "Grade A\n"
     ]
    }
   ],
   "source": [
    "'''Write a program which takes 5 inputs from user for different subject’s marks, total it \n",
    "and generate mark sheet using grades ?*/'''\n",
    "\n",
    "\n",
    "\n",
    "English =  int(input(\"Enter your marks: \"))\n",
    "Islamiat = int(input(\"Enter your marks: \"))\n",
    "Math = int(input(\"Enter your marks: \"))\n",
    "History = int(input(\"Enter your marks: \"))\n",
    "physics = int(input(\"Enter your marks: \"))\n",
    "\n",
    "Total_marks = 500\n",
    "\n",
    "Obtained_marks = English + Islamiat + Math + History + physics\n",
    "\n",
    "Percentage = Obtained_marks / Total_marks *  100\n",
    "\n",
    "print (\"Your total marks is\" , Obtained_marks)\n",
    "\n",
    "print (\"The percentage is\", Percentage)\n",
    "\n",
    "\n",
    "if (Percentage >=80  and Percentage<=100):\n",
    "    print (\"Grade A+\");\n",
    "elif (Percentage >=70 and Percentage<=79):\n",
    "    print (\"Grade A\");\n",
    "elif (Percentage >=60 and Percentage<=69):\n",
    "    print (\"Grade B\");\n",
    "elif (Percentage >=50 and Percentage<=59):\n",
    "    print (\"Grade C\");\n",
    "elif (Percentage >=45 and Percentage<=49):\n",
    "    print (\"Grade D\");\n",
    "else:\n",
    "    print (\"You are Fail\")\n",
    "    \n",
    " \n"
   ]
  },
  {
   "cell_type": "code",
   "execution_count": 26,
   "id": "9a92f9c5",
   "metadata": {},
   "outputs": [
    {
     "name": "stdout",
     "output_type": "stream",
     "text": [
      "Enter a number: 6\n",
      "This is an even number.\n"
     ]
    }
   ],
   "source": [
    "'''Write a program which take input from user and identify that the given number is even\n",
    "or odd?'''\n",
    "\n",
    "\n",
    "\n",
    "num = int(input(\"Enter a number: \"))\n",
    "mod = num % 2\n",
    "if mod > 0:\n",
    "    print(\"This is an odd number.\")\n",
    "else:\n",
    "    print(\"This is an even number.\")"
   ]
  },
  {
   "cell_type": "code",
   "execution_count": 29,
   "id": "d45785bb",
   "metadata": {},
   "outputs": [
    {
     "name": "stdout",
     "output_type": "stream",
     "text": [
      "5\n"
     ]
    }
   ],
   "source": [
    "#Write a program which print the length of the list? \n",
    "\n",
    "list = [1,'ali','Pakistan',4,56]\n",
    "\n",
    "length = len(list)\n",
    "\n",
    "print (length)"
   ]
  },
  {
   "cell_type": "code",
   "execution_count": 31,
   "id": "3623e2e8",
   "metadata": {},
   "outputs": [
    {
     "name": "stdout",
     "output_type": "stream",
     "text": [
      "101\n"
     ]
    }
   ],
   "source": [
    "#Write a Python program to sum all the numeric items in a list?\n",
    "\n",
    "list = [1,3,4,56,7,30]\n",
    "\n",
    "Sum = sum(list)\n",
    "\n",
    "print (Sum)\n"
   ]
  },
  {
   "cell_type": "code",
   "execution_count": 32,
   "id": "53021f43",
   "metadata": {},
   "outputs": [
    {
     "name": "stdout",
     "output_type": "stream",
     "text": [
      "Largest element is: 89\n"
     ]
    }
   ],
   "source": [
    "#Write a Python program to get the largest number from a numeric list.\n",
    "\n",
    "a = [1, 1, 2, 3, 5, 8, 13, 21, 34, 55, 89]\n",
    "print(\"Largest element is:\", max(a))"
   ]
  },
  {
   "cell_type": "code",
   "execution_count": 33,
   "id": "59f6f34a",
   "metadata": {},
   "outputs": [
    {
     "name": "stdout",
     "output_type": "stream",
     "text": [
      "1\n",
      "1\n",
      "2\n",
      "3\n"
     ]
    }
   ],
   "source": [
    "#Write a program that prints out all the elements of the list that are less than 5.\n",
    "\n",
    "a = [1, 1, 2, 3, 5, 8, 13, 21, 34, 55, 89] \n",
    "\n",
    "for i in a:\n",
    "    if i<5:\n",
    "        print (i)\n",
    "    "
   ]
  },
  {
   "cell_type": "code",
   "execution_count": null,
   "id": "f7fbbe62",
   "metadata": {},
   "outputs": [],
   "source": []
  }
 ],
 "metadata": {
  "kernelspec": {
   "display_name": "Python 3 (ipykernel)",
   "language": "python",
   "name": "python3"
  },
  "language_info": {
   "codemirror_mode": {
    "name": "ipython",
    "version": 3
   },
   "file_extension": ".py",
   "mimetype": "text/x-python",
   "name": "python",
   "nbconvert_exporter": "python",
   "pygments_lexer": "ipython3",
   "version": "3.9.6"
  }
 },
 "nbformat": 4,
 "nbformat_minor": 5
}
